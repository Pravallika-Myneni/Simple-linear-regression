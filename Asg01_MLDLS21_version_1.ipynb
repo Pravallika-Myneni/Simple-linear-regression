{
  "nbformat": 4,
  "nbformat_minor": 0,
  "metadata": {
    "colab": {
      "name": "Asg01_MLDLS21_version_1.ipynb",
      "provenance": [],
      "collapsed_sections": []
    },
    "kernelspec": {
      "name": "python3",
      "display_name": "Python 3"
    },
    "language_info": {
      "name": "python"
    }
  },
  "cells": [
    {
      "cell_type": "code",
      "metadata": {
        "id": "6Z9PtlcMh7tP"
      },
      "source": [
        "import numpy as np # linear algebra\n",
        "import pandas as pd # data processing, CSV file I/O (e.g. pd.read_csv)\n",
        "import matplotlib.pyplot as plt # Plotting and Visualizing data\n",
        "import seaborn as sns ## for visualizing data"
      ],
      "execution_count": 38,
      "outputs": []
    },
    {
      "cell_type": "markdown",
      "metadata": {
        "id": "88VtUGNuk9KB"
      },
      "source": [
        "##Reading data"
      ]
    },
    {
      "cell_type": "code",
      "metadata": {
        "id": "--Pb2nwr8gPa"
      },
      "source": [
        "avg_monthly_rent = pd.read_csv(\"https://raw.githubusercontent.com/Pravallika-Myneni/Simple-linear-regression/main/average_monthly_rents.csv?token=ALNM5V6FCXVFKRU27CYUXEDAXELCA\", encoding =\"latin-1\")\n",
        "\n",
        "population_density = pd.read_csv(\"https://raw.githubusercontent.com/Pravallika-Myneni/Simple-linear-regression/main/population_density.csv?token=ALNM5V7SGY5CMYSXJVHSJ2LAXELEU\", encoding =\"latin-1\")"
      ],
      "execution_count": 25,
      "outputs": []
    },
    {
      "cell_type": "code",
      "metadata": {
        "colab": {
          "base_uri": "https://localhost:8080/",
          "height": 137
        },
        "id": "WxZacUET8vaK",
        "outputId": "549ac4b0-f991-43fa-cfc2-e0329dbf7b39"
      },
      "source": [
        "avg_monthly_rent.sample"
      ],
      "execution_count": 26,
      "outputs": [
        {
          "output_type": "execute_result",
          "data": {
            "text/html": [
              "<div>\n",
              "<style scoped>\n",
              "    .dataframe tbody tr th:only-of-type {\n",
              "        vertical-align: middle;\n",
              "    }\n",
              "\n",
              "    .dataframe tbody tr th {\n",
              "        vertical-align: top;\n",
              "    }\n",
              "\n",
              "    .dataframe thead th {\n",
              "        text-align: right;\n",
              "    }\n",
              "</style>\n",
              "<table border=\"1\" class=\"dataframe\">\n",
              "  <thead>\n",
              "    <tr style=\"text-align: right;\">\n",
              "      <th></th>\n",
              "      <th>name</th>\n",
              "      <th>id</th>\n",
              "      <th>average_monthly_rent</th>\n",
              "    </tr>\n",
              "  </thead>\n",
              "  <tbody>\n",
              "    <tr>\n",
              "      <th>278</th>\n",
              "      <td>Borda do Campo</td>\n",
              "      <td>60517</td>\n",
              "      <td>146.25</td>\n",
              "    </tr>\n",
              "    <tr>\n",
              "      <th>236</th>\n",
              "      <td>Santa Clara</td>\n",
              "      <td>60316</td>\n",
              "      <td>261.23</td>\n",
              "    </tr>\n",
              "    <tr>\n",
              "      <th>250</th>\n",
              "      <td>Trouxemil</td>\n",
              "      <td>60330</td>\n",
              "      <td>199.23</td>\n",
              "    </tr>\n",
              "  </tbody>\n",
              "</table>\n",
              "</div>"
            ],
            "text/plain": [
              "               name     id  average_monthly_rent\n",
              "278  Borda do Campo  60517                146.25\n",
              "236     Santa Clara  60316                261.23\n",
              "250       Trouxemil  60330                199.23"
            ]
          },
          "metadata": {
            "tags": []
          },
          "execution_count": 26
        }
      ]
    },
    {
      "cell_type": "code",
      "metadata": {
        "colab": {
          "base_uri": "https://localhost:8080/",
          "height": 137
        },
        "id": "UygVNiof9eP2",
        "outputId": "3acd9088-ad81-4b33-9451-632653bab391"
      },
      "source": [
        "population_density.sample(3)"
      ],
      "execution_count": 27,
      "outputs": [
        {
          "output_type": "execute_result",
          "data": {
            "text/html": [
              "<div>\n",
              "<style scoped>\n",
              "    .dataframe tbody tr th:only-of-type {\n",
              "        vertical-align: middle;\n",
              "    }\n",
              "\n",
              "    .dataframe tbody tr th {\n",
              "        vertical-align: top;\n",
              "    }\n",
              "\n",
              "    .dataframe thead th {\n",
              "        text-align: right;\n",
              "    }\n",
              "</style>\n",
              "<table border=\"1\" class=\"dataframe\">\n",
              "  <thead>\n",
              "    <tr style=\"text-align: right;\">\n",
              "      <th></th>\n",
              "      <th>name</th>\n",
              "      <th>id</th>\n",
              "      <th>population_density</th>\n",
              "    </tr>\n",
              "  </thead>\n",
              "  <tbody>\n",
              "    <tr>\n",
              "      <th>63</th>\n",
              "      <td>Vila Real</td>\n",
              "      <td>1714</td>\n",
              "      <td>136.9</td>\n",
              "    </tr>\n",
              "    <tr>\n",
              "      <th>105</th>\n",
              "      <td>Borralha</td>\n",
              "      <td>10120</td>\n",
              "      <td>256.2</td>\n",
              "    </tr>\n",
              "    <tr>\n",
              "      <th>256</th>\n",
              "      <td>Furadouro</td>\n",
              "      <td>60407</td>\n",
              "      <td>14.3</td>\n",
              "    </tr>\n",
              "  </tbody>\n",
              "</table>\n",
              "</div>"
            ],
            "text/plain": [
              "          name     id  population_density\n",
              "63   Vila Real   1714               136.9\n",
              "105   Borralha  10120               256.2\n",
              "256  Furadouro  60407                14.3"
            ]
          },
          "metadata": {
            "tags": []
          },
          "execution_count": 27
        }
      ]
    },
    {
      "cell_type": "markdown",
      "metadata": {
        "id": "a6ATNnKN9jpj"
      },
      "source": [
        "##Checking for the id's the two datasets have in common "
      ]
    },
    {
      "cell_type": "code",
      "metadata": {
        "colab": {
          "base_uri": "https://localhost:8080/"
        },
        "id": "B1xAyNjT9jHB",
        "outputId": "e2aaa688-8937-45eb-8f28-075864c9f8ab"
      },
      "source": [
        "a_set_id = set(avg_monthly_rent['id'])\n",
        "b_set_id = set(population_density['id'])\n",
        "len(b_set_id.intersection(a_set_id))"
      ],
      "execution_count": 28,
      "outputs": [
        {
          "output_type": "execute_result",
          "data": {
            "text/plain": [
              "498"
            ]
          },
          "metadata": {
            "tags": []
          },
          "execution_count": 28
        }
      ]
    },
    {
      "cell_type": "markdown",
      "metadata": {
        "id": "dliXDhC-_vgn"
      },
      "source": [
        "Our potential dataset can have 498 rows"
      ]
    },
    {
      "cell_type": "markdown",
      "metadata": {
        "id": "HApBD3P8_2HL"
      },
      "source": [
        "## Merging the two Datasets"
      ]
    },
    {
      "cell_type": "code",
      "metadata": {
        "colab": {
          "base_uri": "https://localhost:8080/",
          "height": 167
        },
        "id": "ksaszblE_u_T",
        "outputId": "b691b989-d98c-49f6-eb21-7ee8d5f08ecd"
      },
      "source": [
        "dataset = pd.merge(population_density, avg_monthly_rent, how=\"inner\", on =\"id\")\n",
        "dataset.head(4)"
      ],
      "execution_count": 29,
      "outputs": [
        {
          "output_type": "execute_result",
          "data": {
            "text/html": [
              "<div>\n",
              "<style scoped>\n",
              "    .dataframe tbody tr th:only-of-type {\n",
              "        vertical-align: middle;\n",
              "    }\n",
              "\n",
              "    .dataframe tbody tr th {\n",
              "        vertical-align: top;\n",
              "    }\n",
              "\n",
              "    .dataframe thead th {\n",
              "        text-align: right;\n",
              "    }\n",
              "</style>\n",
              "<table border=\"1\" class=\"dataframe\">\n",
              "  <thead>\n",
              "    <tr style=\"text-align: right;\">\n",
              "      <th></th>\n",
              "      <th>name_x</th>\n",
              "      <th>id</th>\n",
              "      <th>population_density</th>\n",
              "      <th>name_y</th>\n",
              "      <th>average_monthly_rent</th>\n",
              "    </tr>\n",
              "  </thead>\n",
              "  <tbody>\n",
              "    <tr>\n",
              "      <th>0</th>\n",
              "      <td>Arcos de Valdevez</td>\n",
              "      <td>1601</td>\n",
              "      <td>51.0</td>\n",
              "      <td>Arcos de Valdevez</td>\n",
              "      <td>202.16</td>\n",
              "    </tr>\n",
              "    <tr>\n",
              "      <th>1</th>\n",
              "      <td>Caminha</td>\n",
              "      <td>1602</td>\n",
              "      <td>122.2</td>\n",
              "      <td>Caminha</td>\n",
              "      <td>232.24</td>\n",
              "    </tr>\n",
              "    <tr>\n",
              "      <th>2</th>\n",
              "      <td>Melgaço</td>\n",
              "      <td>1603</td>\n",
              "      <td>38.7</td>\n",
              "      <td>Melgaço</td>\n",
              "      <td>215.67</td>\n",
              "    </tr>\n",
              "    <tr>\n",
              "      <th>3</th>\n",
              "      <td>Monção</td>\n",
              "      <td>1604</td>\n",
              "      <td>91.0</td>\n",
              "      <td>Monção</td>\n",
              "      <td>208.22</td>\n",
              "    </tr>\n",
              "  </tbody>\n",
              "</table>\n",
              "</div>"
            ],
            "text/plain": [
              "              name_x    id  ...             name_y average_monthly_rent\n",
              "0  Arcos de Valdevez  1601  ...  Arcos de Valdevez               202.16\n",
              "1            Caminha  1602  ...            Caminha               232.24\n",
              "2            Melgaço  1603  ...            Melgaço               215.67\n",
              "3             Monção  1604  ...             Monção               208.22\n",
              "\n",
              "[4 rows x 5 columns]"
            ]
          },
          "metadata": {
            "tags": []
          },
          "execution_count": 29
        }
      ]
    },
    {
      "cell_type": "markdown",
      "metadata": {
        "id": "BuLYHrGYBJBu"
      },
      "source": [
        "We can drop the names (name_x and name_y) and id as our main concentration is on ***Population Density*** and ***Average_monthly Rent***"
      ]
    },
    {
      "cell_type": "code",
      "metadata": {
        "colab": {
          "base_uri": "https://localhost:8080/",
          "height": 137
        },
        "id": "NomHfZTZBHvS",
        "outputId": "842ed84c-615d-419e-fd90-608433b36b49"
      },
      "source": [
        "dataset = dataset.drop(columns=['name_x','name_y','id'])\n",
        "dataset.head(3)"
      ],
      "execution_count": 30,
      "outputs": [
        {
          "output_type": "execute_result",
          "data": {
            "text/html": [
              "<div>\n",
              "<style scoped>\n",
              "    .dataframe tbody tr th:only-of-type {\n",
              "        vertical-align: middle;\n",
              "    }\n",
              "\n",
              "    .dataframe tbody tr th {\n",
              "        vertical-align: top;\n",
              "    }\n",
              "\n",
              "    .dataframe thead th {\n",
              "        text-align: right;\n",
              "    }\n",
              "</style>\n",
              "<table border=\"1\" class=\"dataframe\">\n",
              "  <thead>\n",
              "    <tr style=\"text-align: right;\">\n",
              "      <th></th>\n",
              "      <th>population_density</th>\n",
              "      <th>average_monthly_rent</th>\n",
              "    </tr>\n",
              "  </thead>\n",
              "  <tbody>\n",
              "    <tr>\n",
              "      <th>0</th>\n",
              "      <td>51.0</td>\n",
              "      <td>202.16</td>\n",
              "    </tr>\n",
              "    <tr>\n",
              "      <th>1</th>\n",
              "      <td>122.2</td>\n",
              "      <td>232.24</td>\n",
              "    </tr>\n",
              "    <tr>\n",
              "      <th>2</th>\n",
              "      <td>38.7</td>\n",
              "      <td>215.67</td>\n",
              "    </tr>\n",
              "  </tbody>\n",
              "</table>\n",
              "</div>"
            ],
            "text/plain": [
              "   population_density  average_monthly_rent\n",
              "0                51.0                202.16\n",
              "1               122.2                232.24\n",
              "2                38.7                215.67"
            ]
          },
          "metadata": {
            "tags": []
          },
          "execution_count": 30
        }
      ]
    },
    {
      "cell_type": "markdown",
      "metadata": {
        "id": "GSc2tcegFxMc"
      },
      "source": [
        "##EDA"
      ]
    },
    {
      "cell_type": "code",
      "metadata": {
        "colab": {
          "base_uri": "https://localhost:8080/",
          "height": 107
        },
        "id": "PQW3YfgKFyjR",
        "outputId": "e99f50bf-b076-41f9-b5f9-7530b12c5744"
      },
      "source": [
        "correlation = dataset.corr()\n",
        "correlation"
      ],
      "execution_count": 40,
      "outputs": [
        {
          "output_type": "execute_result",
          "data": {
            "text/html": [
              "<div>\n",
              "<style scoped>\n",
              "    .dataframe tbody tr th:only-of-type {\n",
              "        vertical-align: middle;\n",
              "    }\n",
              "\n",
              "    .dataframe tbody tr th {\n",
              "        vertical-align: top;\n",
              "    }\n",
              "\n",
              "    .dataframe thead th {\n",
              "        text-align: right;\n",
              "    }\n",
              "</style>\n",
              "<table border=\"1\" class=\"dataframe\">\n",
              "  <thead>\n",
              "    <tr style=\"text-align: right;\">\n",
              "      <th></th>\n",
              "      <th>population_density</th>\n",
              "      <th>average_monthly_rent</th>\n",
              "    </tr>\n",
              "  </thead>\n",
              "  <tbody>\n",
              "    <tr>\n",
              "      <th>population_density</th>\n",
              "      <td>1.000000</td>\n",
              "      <td>0.148989</td>\n",
              "    </tr>\n",
              "    <tr>\n",
              "      <th>average_monthly_rent</th>\n",
              "      <td>0.148989</td>\n",
              "      <td>1.000000</td>\n",
              "    </tr>\n",
              "  </tbody>\n",
              "</table>\n",
              "</div>"
            ],
            "text/plain": [
              "                      population_density  average_monthly_rent\n",
              "population_density              1.000000              0.148989\n",
              "average_monthly_rent            0.148989              1.000000"
            ]
          },
          "metadata": {
            "tags": []
          },
          "execution_count": 40
        }
      ]
    },
    {
      "cell_type": "markdown",
      "metadata": {
        "id": "jVkajy0fCrl_"
      },
      "source": [
        "##Implementing Simple Linear regression"
      ]
    },
    {
      "cell_type": "markdown",
      "metadata": {
        "id": "yIxiN0b4Cwri"
      },
      "source": [
        "###Splitting the data into train and test"
      ]
    },
    {
      "cell_type": "code",
      "metadata": {
        "id": "vjSL9o-LDW1T"
      },
      "source": [
        "X = dataset[['population_density']]\n",
        "y = dataset['average_monthly_rent']"
      ],
      "execution_count": 44,
      "outputs": []
    },
    {
      "cell_type": "code",
      "metadata": {
        "colab": {
          "base_uri": "https://localhost:8080/"
        },
        "id": "vIrIVjy6C4Ld",
        "outputId": "a96515a9-bcda-4dfb-fe29-6f94183b1f33"
      },
      "source": [
        "from sklearn.model_selection import train_test_split\n",
        "\n",
        "X_train, X_test, y_train, y_test = train_test_split(X,y, train_size = 0.75, random_state = 1703)\n",
        "print(\"Training size: \", (X_train.shape[0], y_train.shape[0]))\n",
        "print(\"Testing size: \", (X_test.shape[0], y_test.shape[0]))"
      ],
      "execution_count": 45,
      "outputs": [
        {
          "output_type": "stream",
          "text": [
            "Training size:  (373, 373)\n",
            "Testing size:  (125, 125)\n"
          ],
          "name": "stdout"
        }
      ]
    },
    {
      "cell_type": "markdown",
      "metadata": {
        "id": "hCzx1pofFO2z"
      },
      "source": [
        "### Developing a regression model and fitting the train_data"
      ]
    },
    {
      "cell_type": "code",
      "metadata": {
        "id": "Pq0OcEAmD_sD"
      },
      "source": [
        "from sklearn.linear_model import LinearRegression\n",
        "linear_regression = LinearRegression()\n",
        "linear_regression = linear_regression.fit(X_train, y_train)"
      ],
      "execution_count": 49,
      "outputs": []
    },
    {
      "cell_type": "code",
      "metadata": {
        "colab": {
          "base_uri": "https://localhost:8080/",
          "height": 284
        },
        "id": "xkqY-tPhGIQJ",
        "outputId": "959ef8b5-83ea-405e-fd49-8f312bdc9d0c"
      },
      "source": [
        "predictions = linear_regression.predict(X_test)\n",
        "plt.scatter(y_test, predictions)"
      ],
      "execution_count": 52,
      "outputs": [
        {
          "output_type": "execute_result",
          "data": {
            "text/plain": [
              "<matplotlib.collections.PathCollection at 0x7fcf2343e890>"
            ]
          },
          "metadata": {
            "tags": []
          },
          "execution_count": 52
        },
        {
          "output_type": "display_data",
          "data": {
            "image/png": "[encoded data removed]",
            "text/plain": [
              "<Figure size 432x288 with 1 Axes>"
            ]
          },
          "metadata": {
            "tags": [],
            "needs_background": "light"
          }
        }
      ]
    },
    {
      "cell_type": "code",
      "metadata": {
        "colab": {
          "base_uri": "https://localhost:8080/",
          "height": 351
        },
        "id": "sYSmcgO7GjwU",
        "outputId": "4a12c1aa-a940-4511-892b-83b16b2d9a0f"
      },
      "source": [
        "sns.distplot((y_test-predictions))"
      ],
      "execution_count": 53,
      "outputs": [
        {
          "output_type": "stream",
          "text": [
            "/usr/local/lib/python3.7/dist-packages/seaborn/distributions.py:2557: FutureWarning: `distplot` is a deprecated function and will be removed in a future version. Please adapt your code to use either `displot` (a figure-level function with similar flexibility) or `histplot` (an axes-level function for histograms).\n",
            "  warnings.warn(msg, FutureWarning)\n"
          ],
          "name": "stderr"
        },
        {
          "output_type": "execute_result",
          "data": {
            "text/plain": [
              "<matplotlib.axes._subplots.AxesSubplot at 0x7fcf1f6e2b10>"
            ]
          },
          "metadata": {
            "tags": []
          },
          "execution_count": 53
        },
        {
          "output_type": "display_data",
          "data": {
            "image/png": "[encoded data removed]",
            "text/plain": [
              "<Figure size 432x288 with 1 Axes>"
            ]
          },
          "metadata": {
            "tags": [],
            "needs_background": "light"
          }
        }
      ]
    },
    {
      "cell_type": "code",
      "metadata": {
        "id": "DGgqiXpjIw2a"
      },
      "source": [
        ""
      ],
      "execution_count": null,
      "outputs": []
    },
    {
      "cell_type": "code",
      "metadata": {
        "id": "NFsYdak_IxB7"
      },
      "source": [
        ""
      ],
      "execution_count": null,
      "outputs": []
    }
  ]
}