{
  "nbformat": 4,
  "nbformat_minor": 0,
  "metadata": {
    "colab": {
      "name": "Asg01_MLDLS21_version_3.ipynb",
      "provenance": [],
      "collapsed_sections": [],
      "authorship_tag": "ABX9TyOcbWFg3Fehh6Qp3gsIAOMc",
      "include_colab_link": true
    },
    "kernelspec": {
      "name": "python3",
      "display_name": "Python 3"
    },
    "language_info": {
      "name": "python"
    }
  },
  "cells": [
    {
      "cell_type": "markdown",
      "metadata": {
        "id": "view-in-github",
        "colab_type": "text"
      },
      "source": [
        "<a href=\"https://colab.research.google.com/github/Pravallika-Myneni/Simple-linear-regression/blob/main/Asg01_MLDLS21_version_3.ipynb\" target=\"_parent\"><img src=\"https://colab.research.google.com/assets/colab-badge.svg\" alt=\"Open In Colab\"/></a>"
      ]
    },
    {
      "cell_type": "markdown",
      "metadata": {
        "id": "SfaOaWUvVNqX"
      },
      "source": [
        "Importing the basic modules we need"
      ]
    },
    {
      "cell_type": "code",
      "metadata": {
        "id": "6Z9PtlcMh7tP"
      },
      "source": [
        "import numpy as np # linear algebra\n",
        "import pandas as pd # data processing, CSV file I/O (e.g. pd.read_csv)\n",
        "import matplotlib.pyplot as plt # Plotting and Visualizing data\n",
        "import seaborn as sns ## for visualizing data"
      ],
      "execution_count": 1,
      "outputs": []
    },
    {
      "cell_type": "markdown",
      "metadata": {
        "id": "88VtUGNuk9KB"
      },
      "source": [
        "##1. Data"
      ]
    },
    {
      "cell_type": "markdown",
      "metadata": {
        "id": "l0VAiJZoVMbx"
      },
      "source": [
        "I have tried several datasets available online, even tried some webscraping but was not satisfied with the length of datasets. \n",
        "\n",
        "I came across the ***make_regreesion*** function and used it to make my own dataset of 400 samples"
      ]
    },
    {
      "cell_type": "code",
      "metadata": {
        "id": "WxZacUET8vaK"
      },
      "source": [
        "from sklearn.datasets import make_regression\n",
        "X,y = make_regression (n_samples = 400, n_features = 1, n_informative = 1, noise= 45, random_state = 121, bias= 0.25)"
      ],
      "execution_count": 2,
      "outputs": []
    },
    {
      "cell_type": "code",
      "metadata": {
        "colab": {
          "base_uri": "https://localhost:8080/"
        },
        "id": "B1xAyNjT9jHB",
        "outputId": "7f74eeba-c3f5-4f15-a30d-ef792ac40959"
      },
      "source": [
        "X.shape, y.shape"
      ],
      "execution_count": 3,
      "outputs": [
        {
          "output_type": "execute_result",
          "data": {
            "text/plain": [
              "((400, 1), (400,))"
            ]
          },
          "metadata": {
            "tags": []
          },
          "execution_count": 3
        }
      ]
    },
    {
      "cell_type": "code",
      "metadata": {
        "colab": {
          "base_uri": "https://localhost:8080/",
          "height": 405
        },
        "id": "r0ABdsnkMW3c",
        "outputId": "ceccafcd-7828-4e01-89ec-acc475daedd1"
      },
      "source": [
        "dataset = pd.DataFrame({'X':X.squeeze(),'y':y})\n",
        "dataset"
      ],
      "execution_count": 4,
      "outputs": [
        {
          "output_type": "execute_result",
          "data": {
            "text/html": [
              "<div>\n",
              "<style scoped>\n",
              "    .dataframe tbody tr th:only-of-type {\n",
              "        vertical-align: middle;\n",
              "    }\n",
              "\n",
              "    .dataframe tbody tr th {\n",
              "        vertical-align: top;\n",
              "    }\n",
              "\n",
              "    .dataframe thead th {\n",
              "        text-align: right;\n",
              "    }\n",
              "</style>\n",
              "<table border=\"1\" class=\"dataframe\">\n",
              "  <thead>\n",
              "    <tr style=\"text-align: right;\">\n",
              "      <th></th>\n",
              "      <th>X</th>\n",
              "      <th>y</th>\n",
              "    </tr>\n",
              "  </thead>\n",
              "  <tbody>\n",
              "    <tr>\n",
              "      <th>0</th>\n",
              "      <td>0.293904</td>\n",
              "      <td>-7.079618</td>\n",
              "    </tr>\n",
              "    <tr>\n",
              "      <th>1</th>\n",
              "      <td>0.725839</td>\n",
              "      <td>18.288035</td>\n",
              "    </tr>\n",
              "    <tr>\n",
              "      <th>2</th>\n",
              "      <td>1.257253</td>\n",
              "      <td>81.683706</td>\n",
              "    </tr>\n",
              "    <tr>\n",
              "      <th>3</th>\n",
              "      <td>0.824424</td>\n",
              "      <td>57.863076</td>\n",
              "    </tr>\n",
              "    <tr>\n",
              "      <th>4</th>\n",
              "      <td>0.168823</td>\n",
              "      <td>21.475845</td>\n",
              "    </tr>\n",
              "    <tr>\n",
              "      <th>...</th>\n",
              "      <td>...</td>\n",
              "      <td>...</td>\n",
              "    </tr>\n",
              "    <tr>\n",
              "      <th>395</th>\n",
              "      <td>-1.540080</td>\n",
              "      <td>-226.697871</td>\n",
              "    </tr>\n",
              "    <tr>\n",
              "      <th>396</th>\n",
              "      <td>-0.799629</td>\n",
              "      <td>-131.123181</td>\n",
              "    </tr>\n",
              "    <tr>\n",
              "      <th>397</th>\n",
              "      <td>1.523444</td>\n",
              "      <td>153.787236</td>\n",
              "    </tr>\n",
              "    <tr>\n",
              "      <th>398</th>\n",
              "      <td>2.090845</td>\n",
              "      <td>213.300796</td>\n",
              "    </tr>\n",
              "    <tr>\n",
              "      <th>399</th>\n",
              "      <td>0.268599</td>\n",
              "      <td>57.685604</td>\n",
              "    </tr>\n",
              "  </tbody>\n",
              "</table>\n",
              "<p>400 rows × 2 columns</p>\n",
              "</div>"
            ],
            "text/plain": [
              "            X           y\n",
              "0    0.293904   -7.079618\n",
              "1    0.725839   18.288035\n",
              "2    1.257253   81.683706\n",
              "3    0.824424   57.863076\n",
              "4    0.168823   21.475845\n",
              "..        ...         ...\n",
              "395 -1.540080 -226.697871\n",
              "396 -0.799629 -131.123181\n",
              "397  1.523444  153.787236\n",
              "398  2.090845  213.300796\n",
              "399  0.268599   57.685604\n",
              "\n",
              "[400 rows x 2 columns]"
            ]
          },
          "metadata": {
            "tags": []
          },
          "execution_count": 4
        }
      ]
    },
    {
      "cell_type": "markdown",
      "metadata": {
        "id": "GSc2tcegFxMc"
      },
      "source": [
        "##2. EDA"
      ]
    },
    {
      "cell_type": "markdown",
      "metadata": {
        "id": "_UCE5bRtSavO"
      },
      "source": [
        "### Datatypes of columns"
      ]
    },
    {
      "cell_type": "code",
      "metadata": {
        "colab": {
          "base_uri": "https://localhost:8080/"
        },
        "id": "1zOsSlr5SZ6n",
        "outputId": "040273d7-217d-49c9-9c41-18417df49691"
      },
      "source": [
        "dataset.dtypes"
      ],
      "execution_count": 5,
      "outputs": [
        {
          "output_type": "execute_result",
          "data": {
            "text/plain": [
              "X    float64\n",
              "y    float64\n",
              "dtype: object"
            ]
          },
          "metadata": {
            "tags": []
          },
          "execution_count": 5
        }
      ]
    },
    {
      "cell_type": "markdown",
      "metadata": {
        "id": "6L6wcKlDTDnC"
      },
      "source": [
        "### Checking for null values"
      ]
    },
    {
      "cell_type": "code",
      "metadata": {
        "colab": {
          "base_uri": "https://localhost:8080/"
        },
        "id": "cajBK-dNS-LC",
        "outputId": "b851f9e8-7c01-4cd7-9116-8d094d1225c3"
      },
      "source": [
        "dataset.isnull().sum()"
      ],
      "execution_count": 6,
      "outputs": [
        {
          "output_type": "execute_result",
          "data": {
            "text/plain": [
              "X    0\n",
              "y    0\n",
              "dtype: int64"
            ]
          },
          "metadata": {
            "tags": []
          },
          "execution_count": 6
        }
      ]
    },
    {
      "cell_type": "markdown",
      "metadata": {
        "id": "8ouoU8NWTJOW"
      },
      "source": [
        "### Descriptive statistics of data"
      ]
    },
    {
      "cell_type": "code",
      "metadata": {
        "colab": {
          "base_uri": "https://localhost:8080/",
          "height": 286
        },
        "id": "NVozAILKTQ_M",
        "outputId": "6272754b-0f4b-4708-d662-06ae38495fe5"
      },
      "source": [
        "dataset.describe()"
      ],
      "execution_count": 7,
      "outputs": [
        {
          "output_type": "execute_result",
          "data": {
            "text/html": [
              "<div>\n",
              "<style scoped>\n",
              "    .dataframe tbody tr th:only-of-type {\n",
              "        vertical-align: middle;\n",
              "    }\n",
              "\n",
              "    .dataframe tbody tr th {\n",
              "        vertical-align: top;\n",
              "    }\n",
              "\n",
              "    .dataframe thead th {\n",
              "        text-align: right;\n",
              "    }\n",
              "</style>\n",
              "<table border=\"1\" class=\"dataframe\">\n",
              "  <thead>\n",
              "    <tr style=\"text-align: right;\">\n",
              "      <th></th>\n",
              "      <th>X</th>\n",
              "      <th>y</th>\n",
              "    </tr>\n",
              "  </thead>\n",
              "  <tbody>\n",
              "    <tr>\n",
              "      <th>count</th>\n",
              "      <td>400.000000</td>\n",
              "      <td>400.000000</td>\n",
              "    </tr>\n",
              "    <tr>\n",
              "      <th>mean</th>\n",
              "      <td>0.021573</td>\n",
              "      <td>3.986830</td>\n",
              "    </tr>\n",
              "    <tr>\n",
              "      <th>std</th>\n",
              "      <td>0.957861</td>\n",
              "      <td>103.910800</td>\n",
              "    </tr>\n",
              "    <tr>\n",
              "      <th>min</th>\n",
              "      <td>-3.086725</td>\n",
              "      <td>-311.959312</td>\n",
              "    </tr>\n",
              "    <tr>\n",
              "      <th>25%</th>\n",
              "      <td>-0.542163</td>\n",
              "      <td>-69.389276</td>\n",
              "    </tr>\n",
              "    <tr>\n",
              "      <th>50%</th>\n",
              "      <td>0.038338</td>\n",
              "      <td>3.195375</td>\n",
              "    </tr>\n",
              "    <tr>\n",
              "      <th>75%</th>\n",
              "      <td>0.666901</td>\n",
              "      <td>76.785291</td>\n",
              "    </tr>\n",
              "    <tr>\n",
              "      <th>max</th>\n",
              "      <td>3.015557</td>\n",
              "      <td>285.910900</td>\n",
              "    </tr>\n",
              "  </tbody>\n",
              "</table>\n",
              "</div>"
            ],
            "text/plain": [
              "                X           y\n",
              "count  400.000000  400.000000\n",
              "mean     0.021573    3.986830\n",
              "std      0.957861  103.910800\n",
              "min     -3.086725 -311.959312\n",
              "25%     -0.542163  -69.389276\n",
              "50%      0.038338    3.195375\n",
              "75%      0.666901   76.785291\n",
              "max      3.015557  285.910900"
            ]
          },
          "metadata": {
            "tags": []
          },
          "execution_count": 7
        }
      ]
    },
    {
      "cell_type": "markdown",
      "metadata": {
        "id": "U_9ElNUPPcac"
      },
      "source": [
        "### Plotting X and y"
      ]
    },
    {
      "cell_type": "code",
      "metadata": {
        "colab": {
          "base_uri": "https://localhost:8080/",
          "height": 896
        },
        "id": "NkdoCtN1Pb1a",
        "outputId": "4a565930-2a73-4e52-bbfc-a7ee41997746"
      },
      "source": [
        "plt.figure(figsize=(15,15))\n",
        "plt.title('X vs. y')\n",
        "plt.scatter(X,y,color='violet',marker='*')"
      ],
      "execution_count": 8,
      "outputs": [
        {
          "output_type": "execute_result",
          "data": {
            "text/plain": [
              "<matplotlib.collections.PathCollection at 0x7f8c752b9ed0>"
            ]
          },
          "metadata": {
            "tags": []
          },
          "execution_count": 8
        },
        {
          "output_type": "display_data",
          "data": {
            "image/png": "[encoded data removed]",
            "text/plain": [
              "<Figure size 1080x1080 with 1 Axes>"
            ]
          },
          "metadata": {
            "tags": [],
            "needs_background": "light"
          }
        }
      ]
    },
    {
      "cell_type": "markdown",
      "metadata": {
        "id": "0bf3G7y4Uk7v"
      },
      "source": [
        "### Correlation"
      ]
    },
    {
      "cell_type": "code",
      "metadata": {
        "colab": {
          "base_uri": "https://localhost:8080/",
          "height": 107
        },
        "id": "PQW3YfgKFyjR",
        "outputId": "d940bfd3-a431-4990-9d9f-6f0cdad9524a"
      },
      "source": [
        "correlation = dataset.corr()\n",
        "correlation"
      ],
      "execution_count": 9,
      "outputs": [
        {
          "output_type": "execute_result",
          "data": {
            "text/html": [
              "<div>\n",
              "<style scoped>\n",
              "    .dataframe tbody tr th:only-of-type {\n",
              "        vertical-align: middle;\n",
              "    }\n",
              "\n",
              "    .dataframe tbody tr th {\n",
              "        vertical-align: top;\n",
              "    }\n",
              "\n",
              "    .dataframe thead th {\n",
              "        text-align: right;\n",
              "    }\n",
              "</style>\n",
              "<table border=\"1\" class=\"dataframe\">\n",
              "  <thead>\n",
              "    <tr style=\"text-align: right;\">\n",
              "      <th></th>\n",
              "      <th>X</th>\n",
              "      <th>y</th>\n",
              "    </tr>\n",
              "  </thead>\n",
              "  <tbody>\n",
              "    <tr>\n",
              "      <th>X</th>\n",
              "      <td>1.000000</td>\n",
              "      <td>0.908943</td>\n",
              "    </tr>\n",
              "    <tr>\n",
              "      <th>y</th>\n",
              "      <td>0.908943</td>\n",
              "      <td>1.000000</td>\n",
              "    </tr>\n",
              "  </tbody>\n",
              "</table>\n",
              "</div>"
            ],
            "text/plain": [
              "          X         y\n",
              "X  1.000000  0.908943\n",
              "y  0.908943  1.000000"
            ]
          },
          "metadata": {
            "tags": []
          },
          "execution_count": 9
        }
      ]
    },
    {
      "cell_type": "markdown",
      "metadata": {
        "id": "jVkajy0fCrl_"
      },
      "source": [
        "##3. Implementing Simple Linear regression"
      ]
    },
    {
      "cell_type": "markdown",
      "metadata": {
        "id": "yIxiN0b4Cwri"
      },
      "source": [
        "###Splitting the data into train and test"
      ]
    },
    {
      "cell_type": "code",
      "metadata": {
        "colab": {
          "base_uri": "https://localhost:8080/"
        },
        "id": "vIrIVjy6C4Ld",
        "outputId": "acf66942-e3d2-44bd-e081-81e78e07ffe0"
      },
      "source": [
        "from sklearn.model_selection import train_test_split\n",
        "\n",
        "X_train, X_test, y_train, y_test = train_test_split(X,y, train_size = 0.75, random_state = 1703)\n",
        "print(\"Training size: \", (X_train.shape[0], y_train.shape[0]))\n",
        "print(\"Testing size: \", (X_test.shape[0], y_test.shape[0]))"
      ],
      "execution_count": 10,
      "outputs": [
        {
          "output_type": "stream",
          "text": [
            "Training size:  (300, 300)\n",
            "Testing size:  (100, 100)\n"
          ],
          "name": "stdout"
        }
      ]
    },
    {
      "cell_type": "markdown",
      "metadata": {
        "id": "hCzx1pofFO2z"
      },
      "source": [
        "### Developing a regression model and fitting the train_data"
      ]
    },
    {
      "cell_type": "code",
      "metadata": {
        "id": "Pq0OcEAmD_sD"
      },
      "source": [
        "from sklearn.linear_model import LinearRegression\n",
        "linear_regression = LinearRegression()\n",
        "linear_regression = linear_regression.fit(X_train, y_train)"
      ],
      "execution_count": 11,
      "outputs": []
    },
    {
      "cell_type": "code",
      "metadata": {
        "id": "xkqY-tPhGIQJ"
      },
      "source": [
        "predictions = linear_regression.predict(X_test)"
      ],
      "execution_count": 12,
      "outputs": []
    },
    {
      "cell_type": "code",
      "metadata": {
        "colab": {
          "base_uri": "https://localhost:8080/",
          "height": 335
        },
        "id": "sYSmcgO7GjwU",
        "outputId": "907ad173-9672-42cb-b352-a04f5e964913"
      },
      "source": [
        "sns.distplot((y_test-predictions))"
      ],
      "execution_count": 13,
      "outputs": [
        {
          "output_type": "stream",
          "text": [
            "/usr/local/lib/python3.7/dist-packages/seaborn/distributions.py:2557: FutureWarning: `distplot` is a deprecated function and will be removed in a future version. Please adapt your code to use either `displot` (a figure-level function with similar flexibility) or `histplot` (an axes-level function for histograms).\n",
            "  warnings.warn(msg, FutureWarning)\n"
          ],
          "name": "stderr"
        },
        {
          "output_type": "execute_result",
          "data": {
            "text/plain": [
              "<matplotlib.axes._subplots.AxesSubplot at 0x7f8c71138610>"
            ]
          },
          "metadata": {
            "tags": []
          },
          "execution_count": 13
        },
        {
          "output_type": "display_data",
          "data": {
            "image/png": "[encoded data removed]",
            "text/plain": [
              "<Figure size 432x288 with 1 Axes>"
            ]
          },
          "metadata": {
            "tags": [],
            "needs_background": "light"
          }
        }
      ]
    },
    {
      "cell_type": "markdown",
      "metadata": {
        "id": "05mjGvwRQDYs"
      },
      "source": [
        "#4. Performance Analysis"
      ]
    },
    {
      "cell_type": "markdown",
      "metadata": {
        "id": "oj-u6IG6QP_N"
      },
      "source": [
        "##Accuracy"
      ]
    },
    {
      "cell_type": "code",
      "metadata": {
        "colab": {
          "base_uri": "https://localhost:8080/"
        },
        "id": "E6GLF2dhQPWO",
        "outputId": "efee51cc-0e16-472a-ca68-8de7a9b316c1"
      },
      "source": [
        "print(linear_regression.score(X_test, y_test))"
      ],
      "execution_count": 14,
      "outputs": [
        {
          "output_type": "stream",
          "text": [
            "0.804678537584997\n"
          ],
          "name": "stdout"
        }
      ]
    },
    {
      "cell_type": "markdown",
      "metadata": {
        "id": "rhhSCOoVQfXU"
      },
      "source": [
        "## Regressor Curve"
      ]
    },
    {
      "cell_type": "markdown",
      "metadata": {
        "id": "wCe1NLbOQ4fD"
      },
      "source": [
        "###For the training data"
      ]
    },
    {
      "cell_type": "code",
      "metadata": {
        "colab": {
          "base_uri": "https://localhost:8080/",
          "height": 878
        },
        "id": "LPx8kp7BQNRg",
        "outputId": "9d2dd51b-8b84-4f44-b3c1-58a8d971d702"
      },
      "source": [
        "plt.figure(figsize=(15,15))\n",
        "plt.title('X vs. y vs predictions')\n",
        "plt.scatter(X_train,y_train,color='grey',marker='*')\n",
        "plt.plot(X_train, linear_regression.predict(X_train), color =\"lightsalmon\")\n",
        "plt.show()"
      ],
      "execution_count": 15,
      "outputs": [
        {
          "output_type": "display_data",
          "data": {
            "image/png": "[encoded data removed]",
            "text/plain": [
              "<Figure size 1080x1080 with 1 Axes>"
            ]
          },
          "metadata": {
            "tags": [],
            "needs_background": "light"
          }
        }
      ]
    },
    {
      "cell_type": "markdown",
      "metadata": {
        "id": "S1wRPqdOQ7FE"
      },
      "source": [
        "###For the testing data"
      ]
    },
    {
      "cell_type": "code",
      "metadata": {
        "colab": {
          "base_uri": "https://localhost:8080/",
          "height": 878
        },
        "id": "qMLQtzmEQ_62",
        "outputId": "00e18a42-5656-4fa4-ac2c-22a4016d85dc"
      },
      "source": [
        "plt.figure(figsize=(15,15))\n",
        "plt.title('X vs. y vs predictions')\n",
        "plt.scatter(X_test,y_test,color='lightsalmon',marker='*')\n",
        "plt.plot(X_test, linear_regression.predict(X_test), color =\"grey\")\n",
        "plt.show()"
      ],
      "execution_count": 16,
      "outputs": [
        {
          "output_type": "display_data",
          "data": {
            "image/png": "[encoded data removed]",
            "text/plain": [
              "<Figure size 1080x1080 with 1 Axes>"
            ]
          },
          "metadata": {
            "tags": [],
            "needs_background": "light"
          }
        }
      ]
    },
    {
      "cell_type": "markdown",
      "metadata": {
        "id": "QWZljH-zRWxN"
      },
      "source": [
        "#5. Form for collecting the user Input"
      ]
    },
    {
      "cell_type": "code",
      "metadata": {
        "colab": {
          "base_uri": "https://localhost:8080/",
          "height": 38
        },
        "id": "0s65opSzUM4v",
        "outputId": "ca018f16-3174-4242-81fd-3e35a28fffca"
      },
      "source": [
        "%%html\n",
        "<marquee style='width: 100%; color: purple;'><b>Enter X value in the form below to get the y value!!</b></marquee>"
      ],
      "execution_count": 17,
      "outputs": [
        {
          "output_type": "display_data",
          "data": {
            "text/html": [
              "<marquee style='width: 100%; color: purple;'><b>Enter X value in the form below to get the y value!!</b></marquee>"
            ],
            "text/plain": [
              "<IPython.core.display.HTML object>"
            ]
          },
          "metadata": {
            "tags": []
          }
        }
      ]
    },
    {
      "cell_type": "code",
      "metadata": {
        "id": "pCLE17ofRpj7"
      },
      "source": [
        "#@title Determing y using X\n",
        "#@title User Input\n",
        "X_input =  40#@param {type:\"number\"}\n"
      ],
      "execution_count": 18,
      "outputs": []
    },
    {
      "cell_type": "code",
      "metadata": {
        "colab": {
          "base_uri": "https://localhost:8080/"
        },
        "id": "2usHcr7ERx-z",
        "outputId": "debb65df-5460-4705-bd45-d730ba638aad"
      },
      "source": [
        "y_output = linear_regression.predict(np.array([[X_input]]))\n",
        "print(\"The output y of the simple linear regression model developed by Pravallika is: \", y_output[0])"
      ],
      "execution_count": 19,
      "outputs": [
        {
          "output_type": "stream",
          "text": [
            "The output y of the simple linear regression model developed by Pravallika is:  3913.760071842963\n"
          ],
          "name": "stdout"
        }
      ]
    }
  ]
}